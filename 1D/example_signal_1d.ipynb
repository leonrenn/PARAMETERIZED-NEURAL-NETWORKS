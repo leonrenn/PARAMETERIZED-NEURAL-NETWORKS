{
 "cells": [
  {
   "attachments": {},
   "cell_type": "markdown",
   "metadata": {},
   "source": [
    "# Example Signal for 1D \n",
    "---\n",
    "Histograms for sampling 200 points from simple gaussian with different $\\mu$'s but same $\\sigma$'s.<br>\n",
    "The $\\mu$'s will differ for the data and span on a range from 0 to 1. <br>\n",
    "It might be the case that the data can be well seperate, but if the means are the same for the gaussian peaks is similar\n",
    "This task can hardly be done. The Neural Network should paramterize on the whole span on which it was trained on without havin t trained on _all_ combinations."
   ]
  },
  {
   "cell_type": "markdown",
   "metadata": {},
   "source": [
    "### Import Modules "
   ]
  },
  {
   "cell_type": "code",
   "execution_count": 2,
   "metadata": {},
   "outputs": [],
   "source": [
    "import matplotlib.pyplot as plt\n",
    "import numpy as np"
   ]
  },
  {
   "cell_type": "markdown",
   "metadata": {},
   "source": [
    "### Plot Signals \n",
    "\n",
    "Signal and background event visualization."
   ]
  },
  {
   "cell_type": "code",
   "execution_count": 3,
   "metadata": {},
   "outputs": [
    {
     "data": {
      "image/png": "[encoded data removed]",
      "text/plain": [
       "<Figure size 432x288 with 1 Axes>"
      ]
     },
     "metadata": {
      "needs_background": "light"
     },
     "output_type": "display_data"
    }
   ],
   "source": [
    "sizes = 200\n",
    "background = np.random.normal(loc=0.200, scale=0.03, size=sizes)\n",
    "signal = np.random.normal(loc=0.300, scale=0.03, size=sizes)\n",
    "plt.hist(background, bins=10, label=f\"H: Background\", density=True, alpha=0.5)\n",
    "plt.hist(signal, bins=10, label=f\"H: Signal\", density=True, alpha=0.5)\n",
    "plt.legend()\n",
    "plt.xlabel(\"X\")\n",
    "plt.ylabel(\"Event densities\")\n",
    "plt.show()"
   ]
  }
 ],
 "metadata": {
  "kernelspec": {
   "display_name": "Python 3.9.11 ('base')",
   "language": "python",
   "name": "python3"
  },
  "language_info": {
   "codemirror_mode": {
    "name": "ipython",
    "version": 3
   },
   "file_extension": ".py",
   "mimetype": "text/x-python",
   "name": "python",
   "nbconvert_exporter": "python",
   "pygments_lexer": "ipython3",
   "version": "3.9.11"
  },
  "orig_nbformat": 4,
  "vscode": {
   "interpreter": {
    "hash": "3192385147c4dbf50dea39595916349a4e8576cb118be8fcb78e7fdceff78662"
   }
  }
 },
 "nbformat": 4,
 "nbformat_minor": 2
}
